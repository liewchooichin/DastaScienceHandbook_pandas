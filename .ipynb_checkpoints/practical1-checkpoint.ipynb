{
 "cells": [
  {
   "cell_type": "code",
   "execution_count": 1,
   "id": "99e0980d-32cf-421c-a7c2-4367e9d31306",
   "metadata": {},
   "outputs": [],
   "source": [
    "# %load data1.py\n",
    "import numpy as np\n",
    "import sklearn.preprocessing\n",
    "input_data = np.array([[1.5, -2.0, 5.5],\n",
    "[-2.5, 2.4, 4.5],\n",
    "[0.5, -8.0, 5.0],\n",
    "[6.9, 2.0, -5.2]], dtype='float64')\n",
    "binarizer = sklearn.preprocessing.Binarizer(threshold = 0.5)\n",
    "data_binarized = binarizer.transform(input_data)\n",
    "print(\"\\nBinarized data:\\n\", data_binarized)\n"
   ]
  }
 ],
 "metadata": {
  "kernelspec": {
   "display_name": "Python 3 (ipykernel)",
   "language": "python",
   "name": "python3"
  },
  "language_info": {
   "codemirror_mode": {
    "name": "ipython",
    "version": 3
   },
   "file_extension": ".py",
   "mimetype": "text/x-python",
   "name": "python",
   "nbconvert_exporter": "python",
   "pygments_lexer": "ipython3",
   "version": "3.10.10"
  }
 },
 "nbformat": 4,
 "nbformat_minor": 5
}
